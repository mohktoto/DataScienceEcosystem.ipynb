{
 "cells": [
  {
   "cell_type": "markdown",
   "id": "3140bb40",
   "metadata": {},
   "source": [
    "# Data Science Tools and Ecosystem"
   ]
  },
  {
   "cell_type": "markdown",
   "id": "3d0f5cfe",
   "metadata": {},
   "source": [
    "In this notebook, Data Science Tools and Ecosystem are summarized."
   ]
  },
  {
   "cell_type": "markdown",
   "id": "786d5741",
   "metadata": {},
   "source": [
    "Some of the popular languages that Data Scientists use are:\n",
    "\n",
    "* Python.\n",
    "\n",
    "\n",
    "* R.\n",
    "\n",
    "\n",
    "* SQL"
   ]
  },
  {
   "cell_type": "markdown",
   "id": "344eee9e",
   "metadata": {},
   "source": [
    "Some of the commonly used libraries used by Data Scientists include:\n",
    "    \n",
    "  1.Pandas\n",
    "\n",
    "  2.NumPy\n",
    "    \n",
    "  3.Matplotlib\n",
    "  \n",
    "  "
   ]
  },
  {
   "cell_type": "markdown",
   "id": "99d05e23",
   "metadata": {},
   "source": [
    "Data Science Tools\n",
    "    \n",
    "* Jupyter \n",
    "          \n",
    "   *  Rstudio \n",
    "          \n",
    "        *  spyder "
   ]
  },
  {
   "cell_type": "markdown",
   "id": "77284450",
   "metadata": {},
   "source": [
    "### Below are a few examples of evaluating arithmetic expressions in Python"
   ]
  },
  {
   "cell_type": "markdown",
   "id": "b4f0eab0",
   "metadata": {},
   "source": [
    " (3*4)+5"
   ]
  },
  {
   "cell_type": "markdown",
   "id": "da47d67f",
   "metadata": {},
   "source": [
    "his a simple arithmetic expression to mutiply then add integers"
   ]
  },
  {
   "cell_type": "code",
   "execution_count": 10,
   "id": "5bd1a6c3",
   "metadata": {},
   "outputs": [
    {
     "data": {
      "text/plain": [
       "17"
      ]
     },
     "execution_count": 10,
     "metadata": {},
     "output_type": "execute_result"
    }
   ],
   "source": [
    " (3*4)+5"
   ]
  },
  {
   "cell_type": "code",
   "execution_count": null,
   "id": "46ae2b93",
   "metadata": {},
   "outputs": [],
   "source": [
    "200 minutes  into hours "
   ]
  },
  {
   "cell_type": "markdown",
   "id": "cec0e251",
   "metadata": {},
   "source": [
    "This will convert 200 minutes to hours by diving by 60"
   ]
  },
  {
   "cell_type": "code",
   "execution_count": 9,
   "id": "053ef576",
   "metadata": {},
   "outputs": [
    {
     "data": {
      "text/plain": [
       "3.3333333333333335"
      ]
     },
     "execution_count": 9,
     "metadata": {},
     "output_type": "execute_result"
    }
   ],
   "source": [
    "200/60"
   ]
  },
  {
   "cell_type": "code",
   "execution_count": null,
   "id": "c55a7004",
   "metadata": {},
   "outputs": [],
   "source": []
  },
  {
   "cell_type": "markdown",
   "id": "ad2d989d",
   "metadata": {},
   "source": [
    "## Author"
   ]
  },
  {
   "cell_type": "markdown",
   "id": "a0ccae2f",
   "metadata": {},
   "source": [
    "Mohamed Abdelazeim Elrayah "
   ]
  },
  {
   "cell_type": "code",
   "execution_count": null,
   "id": "01bead96",
   "metadata": {},
   "outputs": [],
   "source": []
  }
 ],
 "metadata": {
  "kernelspec": {
   "display_name": "Python 3 (ipykernel)",
   "language": "python",
   "name": "python3"
  },
  "language_info": {
   "codemirror_mode": {
    "name": "ipython",
    "version": 3
   },
   "file_extension": ".py",
   "mimetype": "text/x-python",
   "name": "python",
   "nbconvert_exporter": "python",
   "pygments_lexer": "ipython3",
   "version": "3.9.13"
  }
 },
 "nbformat": 4,
 "nbformat_minor": 5
}
